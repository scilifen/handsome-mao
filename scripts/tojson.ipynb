{
 "cells": [
  {
   "cell_type": "code",
   "execution_count": 2,
   "metadata": {},
   "outputs": [],
   "source": [
    "answers = []\n",
    "ans = []\n",
    "with open('term2/answer.txt','r',encoding='utf8') as f:\n",
    "    l = f.readlines()\n",
    "    for line in l:\n",
    "        if line != '\\n':\n",
    "            ans.append(line.replace('\\n',''))\n",
    "        else:\n",
    "            answers.append(ans.copy())\n",
    "            ans.clear()\n",
    "# print(answers)"
   ]
  },
  {
   "cell_type": "code",
   "execution_count": 3,
   "metadata": {},
   "outputs": [
    {
     "name": "stdout",
     "output_type": "stream",
     "text": [
      "471\n"
     ]
    }
   ],
   "source": [
    "store = []\n",
    "for question in answers:\n",
    "    q = question[0]\n",
    "    a = question[-1][3:]\n",
    "    choice = question[1:-1]\n",
    "    correct_ans = []\n",
    "    for char in a:\n",
    "        if char.lower() == 'a':\n",
    "            correct_ans.append(0)\n",
    "        elif char.lower() == 'b':\n",
    "            correct_ans.append(1)\n",
    "        elif char.lower() == 'c':\n",
    "            correct_ans.append(2)\n",
    "        elif char.lower() == 'd':\n",
    "            correct_ans.append(3)\n",
    "        elif char.lower() == 'e':\n",
    "            correct_ans.append(4)\n",
    "    store.append({\n",
    "        'question': q,\n",
    "        'choices': choice.copy(),\n",
    "        'answers':correct_ans.copy()\n",
    "    })\n",
    "print(len(store))"
   ]
  },
  {
   "cell_type": "code",
   "execution_count": null,
   "metadata": {},
   "outputs": [],
   "source": [
    "import json\n",
    "with open('term2/store.json','w',encoding='utf8') as f:\n",
    "    json.dump(store,f,ensure_ascii=False,indent=True)"
   ]
  },
  {
   "cell_type": "code",
   "execution_count": null,
   "metadata": {},
   "outputs": [],
   "source": []
  }
 ],
 "metadata": {
  "kernelspec": {
   "display_name": "Python 3.10.6 ('ipynb')",
   "language": "python",
   "name": "python3"
  },
  "language_info": {
   "codemirror_mode": {
    "name": "ipython",
    "version": 3
   },
   "file_extension": ".py",
   "mimetype": "text/x-python",
   "name": "python",
   "nbconvert_exporter": "python",
   "pygments_lexer": "ipython3",
   "version": "3.10.9"
  },
  "orig_nbformat": 4,
  "vscode": {
   "interpreter": {
    "hash": "cde0f4a0a09baf71bccab0ded3bb88e1897738720c36e759b19b188bdcb443a5"
   }
  }
 },
 "nbformat": 4,
 "nbformat_minor": 2
}
