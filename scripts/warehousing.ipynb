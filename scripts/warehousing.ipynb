{
 "cells": [
  {
   "cell_type": "code",
   "execution_count": 49,
   "metadata": {},
   "outputs": [],
   "source": [
    "TARGET_DIR = 'term2/'\n",
    "import os,re\n",
    "from bs4 import BeautifulSoup"
   ]
  },
  {
   "cell_type": "code",
   "execution_count": 50,
   "metadata": {},
   "outputs": [],
   "source": [
    "def handle_html(file):\n",
    "    tree = BeautifulSoup(open(file,encoding='utf-8'))\n",
    "    qs = tree.select('.questionLi')\n",
    "    store = []\n",
    "    for one in qs:\n",
    "        question = []\n",
    "        for q in one:\n",
    "            str = q.getText()\n",
    "            if len(str) != 0 and str!='\\n':\n",
    "                str = str.replace('\\n','').replace('\\t','').replace(' ','')\n",
    "                question.append(str)\n",
    "        f = []\n",
    "        for index,each in enumerate(question):\n",
    "            if index==2:\n",
    "                f.append(\"========\")\n",
    "                each=each.replace('：',':').replace('答案解析:','')\n",
    "                each=each.split('正确')\n",
    "                each=each[1]\n",
    "            f.append(each)\n",
    "        store.append(f)\n",
    "    return store"
   ]
  },
  {
   "cell_type": "code",
   "execution_count": 51,
   "metadata": {},
   "outputs": [],
   "source": [
    "def split_line(line):\n",
    "    return re.sub(r'[B-Z]',lambda x: '\\n'+x[0],line)\n",
    "\n",
    "def handle_content(file):\n",
    "    res = []\n",
    "    with open(file) as f:\n",
    "        lines = f.readlines()\n",
    "        for ln, l in enumerate(lines, start=1):\n",
    "            l = re.sub('[（）]',lambda x:'(' if x[0]=='（' else ')',l)\n",
    "            if(ln % 5 == 2):\n",
    "                res.append(split_line(l))\n",
    "                continue\n",
    "            elif(ln % 5 == 3):\n",
    "                continue\n",
    "            res.append(l)\n",
    "    return res"
   ]
  },
  {
   "cell_type": "code",
   "execution_count": 52,
   "metadata": {},
   "outputs": [],
   "source": [
    "html_files = []\n",
    "for file in os.listdir(TARGET_DIR):\n",
    "    if file.endswith('.html'):\n",
    "        html_files.append(file)\n",
    "\n",
    "res = []\n",
    "for file in html_files:\n",
    "    res.extend(handle_html(TARGET_DIR + file))\n",
    "\n",
    "with open(TARGET_DIR + 'answer.txt','w',encoding='utf8') as f:\n",
    "    for question in res:\n",
    "        for line in question:\n",
    "            f.write(line+'\\n')\n",
    "        f.write('\\n')"
   ]
  },
  {
   "cell_type": "code",
   "execution_count": null,
   "metadata": {},
   "outputs": [],
   "source": [
    "res = handle_content(TARGET_DIR + 'answer.txt')\n",
    "with open(TARGET_DIR + 'answer.txt','w') as f:\n",
    "    for l in res:\n",
    "        print(l)\n",
    "        f.write(l)"
   ]
  },
  {
   "cell_type": "code",
   "execution_count": 54,
   "metadata": {},
   "outputs": [],
   "source": [
    "answers = []\n",
    "ans = []\n",
    "with open(TARGET_DIR + 'answer.txt','r',encoding='utf8') as f:\n",
    "    l = f.readlines()\n",
    "    for line in l:\n",
    "        if line != '\\n':\n",
    "            ans.append(line.replace('\\n',''))\n",
    "        else:\n",
    "            answers.append(ans.copy())\n",
    "            ans.clear()\n",
    "# print(answers)"
   ]
  },
  {
   "cell_type": "code",
   "execution_count": 55,
   "metadata": {},
   "outputs": [
    {
     "name": "stdout",
     "output_type": "stream",
     "text": [
      "471\n"
     ]
    }
   ],
   "source": [
    "store = []\n",
    "for question in answers:\n",
    "    q = question[0]\n",
    "    a = question[-1][3:]\n",
    "    choice = question[1:-1]\n",
    "    correct_ans = []\n",
    "    for char in a:\n",
    "        if char.lower() == 'a':\n",
    "            correct_ans.append(0)\n",
    "        elif char.lower() == 'b':\n",
    "            correct_ans.append(1)\n",
    "        elif char.lower() == 'c':\n",
    "            correct_ans.append(2)\n",
    "        elif char.lower() == 'd':\n",
    "            correct_ans.append(3)\n",
    "        elif char.lower() == 'e':\n",
    "            correct_ans.append(4)\n",
    "    store.append({\n",
    "        'question': q,\n",
    "        'choices': choice.copy(),\n",
    "        'answers':correct_ans.copy()\n",
    "    })\n",
    "print(len(store))"
   ]
  },
  {
   "cell_type": "code",
   "execution_count": 56,
   "metadata": {},
   "outputs": [],
   "source": [
    "import json\n",
    "with open(TARGET_DIR + 'store.json','w',encoding='utf8') as f:\n",
    "    json.dump(store,f,ensure_ascii=False,indent=True)"
   ]
  }
 ],
 "metadata": {
  "kernelspec": {
   "display_name": "Python 3.10.6 ('ipynb')",
   "language": "python",
   "name": "python3"
  },
  "language_info": {
   "codemirror_mode": {
    "name": "ipython",
    "version": 3
   },
   "file_extension": ".py",
   "mimetype": "text/x-python",
   "name": "python",
   "nbconvert_exporter": "python",
   "pygments_lexer": "ipython3",
   "version": "3.10.9"
  },
  "orig_nbformat": 4,
  "vscode": {
   "interpreter": {
    "hash": "cde0f4a0a09baf71bccab0ded3bb88e1897738720c36e759b19b188bdcb443a5"
   }
  }
 },
 "nbformat": 4,
 "nbformat_minor": 2
}
