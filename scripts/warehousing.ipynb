{
 "cells": [
  {
   "cell_type": "code",
   "execution_count": 9,
   "metadata": {},
   "outputs": [],
   "source": [
    "TARGET_DIR = 'term2/'\n",
    "import os,re\n",
    "from bs4 import BeautifulSoup"
   ]
  },
  {
   "cell_type": "code",
   "execution_count": 10,
   "metadata": {},
   "outputs": [],
   "source": [
    "def handle_html(file):\n",
    "    tree = BeautifulSoup(open(file,encoding='utf-8'))\n",
    "    qs = tree.select('.questionLi')\n",
    "    store = []\n",
    "    for one in qs:\n",
    "        question = []\n",
    "        for q in one:\n",
    "            str = q.getText()\n",
    "            if len(str) != 0 and str!='\\n':\n",
    "                str = str.replace('\\n','').replace('\\t','').replace(' ','')\n",
    "                question.append(str)\n",
    "        f = []\n",
    "        for index,each in enumerate(question):\n",
    "            if index==2:\n",
    "                f.append(\"========\")\n",
    "                each=each.replace('：',':').replace('答案解析:','')\n",
    "                each=each.split('正确')\n",
    "                each=each[1]\n",
    "            f.append(each)\n",
    "        store.append(f)\n",
    "    return store"
   ]
  },
  {
   "cell_type": "code",
   "execution_count": 11,
   "metadata": {},
   "outputs": [],
   "source": [
    "def split_line(line):\n",
    "    return re.sub(r'[B-J]',lambda x: '\\n'+x[0],line)\n",
    "\n",
    "def handle_content(file):\n",
    "    res = []\n",
    "    with open(file) as f:\n",
    "        lines = f.readlines()\n",
    "        for ln, l in enumerate(lines, start=1):\n",
    "            l = re.sub('[（）]',lambda x:'(' if x[0]=='（' else ')',l)\n",
    "            if(ln % 5 == 2):\n",
    "                res.append(split_line(l))\n",
    "                continue\n",
    "            elif(ln % 5 == 3):\n",
    "                continue\n",
    "            res.append(l)\n",
    "    return res"
   ]
  },
  {
   "cell_type": "code",
   "execution_count": 12,
   "metadata": {},
   "outputs": [],
   "source": [
    "html_files = []\n",
    "for file in os.listdir(TARGET_DIR):\n",
    "    if file.endswith('.html'):\n",
    "        html_files.append(file)\n",
    "\n",
    "res = []\n",
    "for file in html_files:\n",
    "    res.extend(handle_html(TARGET_DIR + file))\n",
    "\n",
    "with open(TARGET_DIR + 'answer.txt','w',encoding='utf8') as f:\n",
    "    for question in res:\n",
    "        for line in question:\n",
    "            f.write(line+'\\n')\n",
    "        f.write('\\n')"
   ]
  },
  {
   "cell_type": "code",
   "execution_count": 13,
   "metadata": {},
   "outputs": [],
   "source": [
    "res = handle_content(TARGET_DIR + 'answer.txt')\n",
    "with open(TARGET_DIR + 'answer.txt','w') as f:\n",
    "    for l in res:\n",
    "        # print(l)\n",
    "        f.write(l)"
   ]
  },
  {
   "cell_type": "code",
   "execution_count": 14,
   "metadata": {},
   "outputs": [],
   "source": [
    "answers = []\n",
    "ans = []\n",
    "with open(TARGET_DIR + 'answer.txt','r',encoding='utf8') as f:\n",
    "    l = f.readlines()\n",
    "    for line in l:\n",
    "        if line != '\\n':\n",
    "            ans.append(line.replace('\\n',''))\n",
    "        else:\n",
    "            answers.append(ans.copy())\n",
    "            ans.clear()\n",
    "# print(answers)"
   ]
  },
  {
   "cell_type": "code",
   "execution_count": 15,
   "metadata": {},
   "outputs": [
    {
     "name": "stdout",
     "output_type": "stream",
     "text": [
      "867\n",
      "[219, 220, 221, 222, 223, 224, 225, 226, 227, 228, 229, 230, 231, 232, 233, 234, 235, 236, 237, 238, 239, 240, 241, 242, 243, 244, 245, 246, 247, 248, 249, 250, 251, 252, 253, 254, 255, 256, 257, 258, 259, 260, 261, 262, 263, 264, 265, 266, 267, 268, 269, 270, 271, 272, 273, 274, 275, 276, 277, 278, 279, 280, 281, 282, 283, 284, 285, 286, 287, 288, 289, 290, 291, 292, 293, 294, 295, 296, 297, 298, 299, 300, 301, 302, 303, 304, 305, 306, 307, 308, 309, 310, 311, 312, 313, 314, 315, 316, 317, 318, 319, 320, 321, 322, 323, 324, 325, 326, 327, 328, 329, 330, 331, 332, 333, 334, 335, 336, 337, 338, 339, 340, 341, 342, 343, 344, 345, 346, 347, 348, 349, 350, 351, 352, 353, 354, 355, 356, 357, 358, 359, 360, 361, 362, 363, 364, 365, 366, 367, 368, 369, 370, 371, 372, 373, 374, 375, 376, 377, 378, 379, 380, 381, 382, 383, 384, 385, 386, 387, 388, 389, 390, 391, 392, 393, 394, 395, 396, 397, 398, 399, 400, 401, 402, 403, 404, 405, 406, 407, 408, 409, 410, 411, 412, 413, 414, 415, 416, 417, 418, 419, 420, 421, 422, 423, 424, 425, 426, 427, 428, 429, 430, 431, 432, 433, 434, 435, 436, 437, 438, 439, 440, 441, 442, 443, 444, 445, 446, 447, 448, 449, 450, 451, 452, 453, 454, 455, 456, 457, 458, 459, 460, 461, 462, 463, 464, 465, 466, 467, 468, 469, 470, 621, 622, 623, 624, 625, 626, 627, 628, 629, 630, 631, 632, 633, 634, 635, 636, 637, 638, 639, 640, 641, 642, 643, 644, 645, 646, 647, 648, 649, 650, 651, 652, 653, 654, 655, 656, 657, 658, 659, 660, 661, 662, 663, 664, 665, 666, 667, 668, 669, 670, 671, 672, 673, 674, 675, 676, 677, 678, 679, 680, 681, 682, 683, 684, 685, 686, 687, 688, 689, 690, 691, 692, 693, 694, 695, 696, 697, 698, 699, 700, 701, 702, 703, 818, 819, 820, 821, 822, 823, 824, 825, 826, 827, 828, 829, 830, 831, 832, 833, 834, 835, 836, 837, 838, 839, 840, 841, 842, 843, 844, 845, 846, 847, 848, 849, 850, 851, 852, 853, 854, 855, 856, 857, 858, 859, 860, 861, 862, 863, 864, 865, 866]\n"
     ]
    }
   ],
   "source": [
    "store = []\n",
    "multi_q = []\n",
    "idx = 0\n",
    "for question in answers:\n",
    "    q = question[0]\n",
    "    a = question[-1][3:]\n",
    "    choice = question[1:-1]\n",
    "    correct_ans = []\n",
    "    for char in a:\n",
    "        if char.lower() == 'a':\n",
    "            correct_ans.append(0)\n",
    "        elif char.lower() == 'b':\n",
    "            correct_ans.append(1)\n",
    "        elif char.lower() == 'c':\n",
    "            correct_ans.append(2)\n",
    "        elif char.lower() == 'd':\n",
    "            correct_ans.append(3)\n",
    "        elif char.lower() == 'e':\n",
    "            correct_ans.append(4)\n",
    "        elif char.lower() == 'f':\n",
    "            correct_ans.append(5)\n",
    "        elif char.lower() == 'g':\n",
    "            correct_ans.append(6)\n",
    "    store.append({\n",
    "        'question': q,\n",
    "        'choices': choice.copy(),\n",
    "        'answers': correct_ans.copy()\n",
    "    })\n",
    "    if(len(correct_ans)>1):\n",
    "        multi_q.append(idx)\n",
    "    idx = idx + 1\n",
    "print(len(store))\n",
    "print(multi_q)"
   ]
  },
  {
   "cell_type": "code",
   "execution_count": 16,
   "metadata": {},
   "outputs": [],
   "source": [
    "import json\n",
    "with open(TARGET_DIR + 'store.json','w',encoding='utf8') as f:\n",
    "    json.dump(store,f,ensure_ascii=False,indent=True)"
   ]
  }
 ],
 "metadata": {
  "kernelspec": {
   "display_name": "Python 3.10.6 ('ipynb')",
   "language": "python",
   "name": "python3"
  },
  "language_info": {
   "codemirror_mode": {
    "name": "ipython",
    "version": 3
   },
   "file_extension": ".py",
   "mimetype": "text/x-python",
   "name": "python",
   "nbconvert_exporter": "python",
   "pygments_lexer": "ipython3",
   "version": "3.10.9"
  },
  "orig_nbformat": 4,
  "vscode": {
   "interpreter": {
    "hash": "cde0f4a0a09baf71bccab0ded3bb88e1897738720c36e759b19b188bdcb443a5"
   }
  }
 },
 "nbformat": 4,
 "nbformat_minor": 2
}
