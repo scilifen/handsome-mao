{
 "cells": [
  {
   "cell_type": "code",
   "execution_count": 8,
   "metadata": {},
   "outputs": [],
   "source": [
    "from bs4 import BeautifulSoup\n",
    "\n",
    "tree = BeautifulSoup(open(\"term2/2.html\",encoding='utf-8'))"
   ]
  },
  {
   "cell_type": "code",
   "execution_count": 9,
   "metadata": {},
   "outputs": [],
   "source": [
    "qs = tree.select('.questionLi')\n",
    "store = []\n",
    "for one in qs:\n",
    "    question = []\n",
    "    for q in one:\n",
    "        str = q.getText()\n",
    "        if len(str) != 0 and str!='\\n':\n",
    "            str = str.replace('\\n','').replace('\\t','').replace(' ','')\n",
    "            question.append(str)\n",
    "    f = []\n",
    "    for index,each in enumerate(question):\n",
    "        if index==2:\n",
    "            f.append(\"========\")\n",
    "            each=each.replace('：',':').replace('答案解析:','')\n",
    "            each=each.split('正确')\n",
    "            each=each[1]\n",
    "        f.append(each)\n",
    "    store.append(f)"
   ]
  },
  {
   "cell_type": "code",
   "execution_count": 10,
   "metadata": {},
   "outputs": [],
   "source": [
    "with open('term2/answer2.txt','w',encoding='utf8') as f:\n",
    "    for question in store:\n",
    "        for line in question:\n",
    "            f.write(line+'\\n')\n",
    "        f.write('\\n')"
   ]
  },
  {
   "cell_type": "code",
   "execution_count": null,
   "metadata": {},
   "outputs": [],
   "source": []
  }
 ],
 "metadata": {
  "kernelspec": {
   "display_name": "Python 3.10.6 ('ipynb')",
   "language": "python",
   "name": "python3"
  },
  "language_info": {
   "codemirror_mode": {
    "name": "ipython",
    "version": 3
   },
   "file_extension": ".py",
   "mimetype": "text/x-python",
   "name": "python",
   "nbconvert_exporter": "python",
   "pygments_lexer": "ipython3",
   "version": "3.10.9"
  },
  "orig_nbformat": 4,
  "vscode": {
   "interpreter": {
    "hash": "cde0f4a0a09baf71bccab0ded3bb88e1897738720c36e759b19b188bdcb443a5"
   }
  }
 },
 "nbformat": 4,
 "nbformat_minor": 2
}
